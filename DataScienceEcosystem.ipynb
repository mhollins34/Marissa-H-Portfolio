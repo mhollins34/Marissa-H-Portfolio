{
 "cells": [
  {
   "cell_type": "markdown",
   "id": "71773072-b92d-4b13-b53e-68864cccaeee",
   "metadata": {},
   "source": [
    "# Data Science Tools and Ecosystem"
   ]
  },
  {
   "cell_type": "markdown",
   "id": "4a0abd31-ccab-41fb-b6b0-2fc83ea77740",
   "metadata": {},
   "source": [
    "In this notebook, Data Science Tools and Ecosystem are summarized."
   ]
  },
  {
   "cell_type": "markdown",
   "id": "307a755e-a86c-4a09-a311-3731294f9697",
   "metadata": {},
   "source": [
    "**Objectives**\n",
    "- What is IBM Watson Studio\n",
    "- Linking GitHub to Watson Studio\n",
    "- Jupyter Notebook in Watson Studio\n",
    "- Open source tools for data science"
   ]
  },
  {
   "cell_type": "markdown",
   "id": "09b3be2e-1b2c-48e8-be6f-d238e4064e17",
   "metadata": {},
   "source": [
    "Some of the popular languages that Data Scientists use are:\n",
    "1. Python\n",
    "1. SQL\n",
    "1. R Language "
   ]
  },
  {
   "cell_type": "markdown",
   "id": "ccee5e0e-3543-40fc-bdc1-2deccfbf088a",
   "metadata": {},
   "source": [
    "Some of the commonly used libraries used by Data Scientists include:\n",
    "\n",
    "1. Pandas\n",
    "2. NumPy\n",
    "3. Matplotlib"
   ]
  },
  {
   "cell_type": "markdown",
   "id": "d3fab541-64a8-4153-a1f4-ecd023715b80",
   "metadata": {},
   "source": [
    "|Data Science Tools|\n",
    "|------------------|\n",
    "|MySQL|\n",
    "|PostgreSQL|\n",
    "|Hadoop File System| "
   ]
  },
  {
   "cell_type": "markdown",
   "id": "e290cccf-1334-49bd-a6ee-78b5a437ab81",
   "metadata": {},
   "source": [
    "### Below are a few examples of evaluating arithmetic expressions in Python"
   ]
  },
  {
   "cell_type": "markdown",
   "id": "16863b32-1a7e-4195-b206-0fa33cf15ad6",
   "metadata": {},
   "source": [
    "This a simple arithmetic expression to mutiply then add integers"
   ]
  },
  {
   "cell_type": "code",
   "execution_count": null,
   "id": "73e0718a-f9cc-4722-a3f3-593460937f41",
   "metadata": {},
   "outputs": [
    {
     "data": {
      "text/plain": [
       "17"
      ]
     },
     "execution_count": 3,
     "metadata": {},
     "output_type": "execute_result"
    }
   ],
   "source": [
    "(3*4)+5"
   ]
  },
  {
   "cell_type": "markdown",
   "id": "daf04055-eb4e-4a30-8195-951b4983b1e3",
   "metadata": {},
   "source": [
    " This will convert 200 minutes to hours by diving by 60"
   ]
  },
  {
   "cell_type": "code",
   "execution_count": 4,
   "id": "3c125bd0-c4a0-4b20-95ed-74c0d17ea6c3",
   "metadata": {},
   "outputs": [
    {
     "data": {
      "text/plain": [
       "3.3333333333333335"
      ]
     },
     "execution_count": 4,
     "metadata": {},
     "output_type": "execute_result"
    }
   ],
   "source": [
    "200/60"
   ]
  },
  {
   "cell_type": "markdown",
   "id": "fa824687-341a-4b0e-ab20-de6d5f78e822",
   "metadata": {},
   "source": [
    "## Author\n",
    "Marissa Hollins"
   ]
  },
  {
   "cell_type": "code",
   "execution_count": null,
   "id": "c46cb012-0350-464c-aa44-52d7f600b64e",
   "metadata": {},
   "outputs": [],
   "source": []
  }
 ],
 "metadata": {
  "kernelspec": {
   "display_name": "Python",
   "language": "python",
   "name": "conda-env-python-py"
  },
  "language_info": {
   "codemirror_mode": {
    "name": "ipython",
    "version": 3
   },
   "file_extension": ".py",
   "mimetype": "text/x-python",
   "name": "python",
   "nbconvert_exporter": "python",
   "pygments_lexer": "ipython3",
   "version": "3.7.12"
  }
 },
 "nbformat": 4,
 "nbformat_minor": 5
}
