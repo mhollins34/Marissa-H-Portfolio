{
 "cells": [
  {
   "cell_type": "code",
   "execution_count": 1,
   "id": "4220828f",
   "metadata": {},
   "outputs": [
    {
     "data": {
      "text/html": [
       "<div>\n",
       "<style scoped>\n",
       "    .dataframe tbody tr th:only-of-type {\n",
       "        vertical-align: middle;\n",
       "    }\n",
       "\n",
       "    .dataframe tbody tr th {\n",
       "        vertical-align: top;\n",
       "    }\n",
       "\n",
       "    .dataframe thead th {\n",
       "        text-align: right;\n",
       "    }\n",
       "</style>\n",
       "<table border=\"1\" class=\"dataframe\">\n",
       "  <thead>\n",
       "    <tr style=\"text-align: right;\">\n",
       "      <th></th>\n",
       "      <th>Srno</th>\n",
       "      <th>PrepTimeInMins</th>\n",
       "      <th>CookTimeInMins</th>\n",
       "      <th>TotalTimeInMins</th>\n",
       "      <th>Servings</th>\n",
       "      <th>Cuisine</th>\n",
       "      <th>Course</th>\n",
       "      <th>Diet</th>\n",
       "    </tr>\n",
       "  </thead>\n",
       "  <tbody>\n",
       "    <tr>\n",
       "      <th>0</th>\n",
       "      <td>1</td>\n",
       "      <td>15.0</td>\n",
       "      <td>30.0</td>\n",
       "      <td>45.0</td>\n",
       "      <td>6.0</td>\n",
       "      <td>Indian</td>\n",
       "      <td>Side Dish</td>\n",
       "      <td>Diabetic Friendly</td>\n",
       "    </tr>\n",
       "    <tr>\n",
       "      <th>1</th>\n",
       "      <td>2</td>\n",
       "      <td>5.0</td>\n",
       "      <td>10.0</td>\n",
       "      <td>15.0</td>\n",
       "      <td>3.0</td>\n",
       "      <td>South Indian Recipes</td>\n",
       "      <td>Main Course</td>\n",
       "      <td>Vegetarian</td>\n",
       "    </tr>\n",
       "    <tr>\n",
       "      <th>2</th>\n",
       "      <td>3</td>\n",
       "      <td>20.0</td>\n",
       "      <td>30.0</td>\n",
       "      <td>50.0</td>\n",
       "      <td>4.0</td>\n",
       "      <td>South Indian Recipes</td>\n",
       "      <td>South Indian Breakfast</td>\n",
       "      <td>High Protein Vegetarian</td>\n",
       "    </tr>\n",
       "    <tr>\n",
       "      <th>3</th>\n",
       "      <td>4</td>\n",
       "      <td>15.0</td>\n",
       "      <td>30.0</td>\n",
       "      <td>45.0</td>\n",
       "      <td>4.0</td>\n",
       "      <td>Andhra</td>\n",
       "      <td>Lunch</td>\n",
       "      <td>Non Vegeterian</td>\n",
       "    </tr>\n",
       "    <tr>\n",
       "      <th>4</th>\n",
       "      <td>5</td>\n",
       "      <td>10.0</td>\n",
       "      <td>20.0</td>\n",
       "      <td>30.0</td>\n",
       "      <td>4.0</td>\n",
       "      <td>Andhra</td>\n",
       "      <td>South Indian Breakfast</td>\n",
       "      <td>Vegetarian</td>\n",
       "    </tr>\n",
       "  </tbody>\n",
       "</table>\n",
       "</div>"
      ],
      "text/plain": [
       "   Srno  PrepTimeInMins  CookTimeInMins  TotalTimeInMins  Servings  \\\n",
       "0     1            15.0            30.0             45.0       6.0   \n",
       "1     2             5.0            10.0             15.0       3.0   \n",
       "2     3            20.0            30.0             50.0       4.0   \n",
       "3     4            15.0            30.0             45.0       4.0   \n",
       "4     5            10.0            20.0             30.0       4.0   \n",
       "\n",
       "                Cuisine                  Course                     Diet  \n",
       "0                Indian               Side Dish        Diabetic Friendly  \n",
       "1  South Indian Recipes             Main Course               Vegetarian  \n",
       "2  South Indian Recipes  South Indian Breakfast  High Protein Vegetarian  \n",
       "3                Andhra                   Lunch           Non Vegeterian  \n",
       "4                Andhra  South Indian Breakfast               Vegetarian  "
      ]
     },
     "execution_count": 1,
     "metadata": {},
     "output_type": "execute_result"
    }
   ],
   "source": [
    "import pandas as pd\n",
    "\n",
    "df_hindi=pd.read_csv('IndianFoodDatasetCleaned.csv') \n",
    "df_hindi.head()"
   ]
  },
  {
   "cell_type": "code",
   "execution_count": 2,
   "id": "b79b90c3",
   "metadata": {},
   "outputs": [
    {
     "data": {
      "text/plain": [
       "Srno               0\n",
       "PrepTimeInMins     4\n",
       "CookTimeInMins     7\n",
       "TotalTimeInMins    9\n",
       "Servings           5\n",
       "Cuisine            0\n",
       "Course             0\n",
       "Diet               0\n",
       "dtype: int64"
      ]
     },
     "execution_count": 2,
     "metadata": {},
     "output_type": "execute_result"
    }
   ],
   "source": [
    "df_hindi.isna().sum()"
   ]
  },
  {
   "cell_type": "code",
   "execution_count": 3,
   "id": "ca684e15",
   "metadata": {},
   "outputs": [
    {
     "data": {
      "text/plain": [
       "28.72476927657041"
      ]
     },
     "execution_count": 3,
     "metadata": {},
     "output_type": "execute_result"
    }
   ],
   "source": [
    "df_hindi['PrepTimeInMins'].mean()"
   ]
  },
  {
   "cell_type": "code",
   "execution_count": 4,
   "id": "b74401c5",
   "metadata": {},
   "outputs": [
    {
     "data": {
      "text/plain": [
       "30.7728965003723"
      ]
     },
     "execution_count": 4,
     "metadata": {},
     "output_type": "execute_result"
    }
   ],
   "source": [
    "df_hindi['CookTimeInMins'].mean()"
   ]
  },
  {
   "cell_type": "code",
   "execution_count": 5,
   "id": "c950a591",
   "metadata": {},
   "outputs": [
    {
     "data": {
      "text/plain": [
       "59.4477878742738"
      ]
     },
     "execution_count": 5,
     "metadata": {},
     "output_type": "execute_result"
    }
   ],
   "source": [
    "df_hindi['TotalTimeInMins'].mean()"
   ]
  },
  {
   "cell_type": "code",
   "execution_count": 6,
   "id": "c04aaf02",
   "metadata": {},
   "outputs": [
    {
     "data": {
      "text/plain": [
       "5.636444841447075"
      ]
     },
     "execution_count": 6,
     "metadata": {},
     "output_type": "execute_result"
    }
   ],
   "source": [
    "df_hindi['Servings'].mean()"
   ]
  },
  {
   "cell_type": "code",
   "execution_count": 7,
   "id": "7a268c62",
   "metadata": {},
   "outputs": [
    {
     "data": {
      "text/html": [
       "<div>\n",
       "<style scoped>\n",
       "    .dataframe tbody tr th:only-of-type {\n",
       "        vertical-align: middle;\n",
       "    }\n",
       "\n",
       "    .dataframe tbody tr th {\n",
       "        vertical-align: top;\n",
       "    }\n",
       "\n",
       "    .dataframe thead th {\n",
       "        text-align: right;\n",
       "    }\n",
       "</style>\n",
       "<table border=\"1\" class=\"dataframe\">\n",
       "  <thead>\n",
       "    <tr style=\"text-align: right;\">\n",
       "      <th></th>\n",
       "      <th>Srno</th>\n",
       "      <th>PrepTimeInMins</th>\n",
       "      <th>CookTimeInMins</th>\n",
       "      <th>TotalTimeInMins</th>\n",
       "      <th>Servings</th>\n",
       "      <th>Cuisine</th>\n",
       "      <th>Course</th>\n",
       "      <th>Diet</th>\n",
       "    </tr>\n",
       "  </thead>\n",
       "  <tbody>\n",
       "    <tr>\n",
       "      <th>0</th>\n",
       "      <td>1</td>\n",
       "      <td>15.0</td>\n",
       "      <td>30.0</td>\n",
       "      <td>45.0</td>\n",
       "      <td>6.0</td>\n",
       "      <td>Indian</td>\n",
       "      <td>Side Dish</td>\n",
       "      <td>Diabetic Friendly</td>\n",
       "    </tr>\n",
       "    <tr>\n",
       "      <th>1</th>\n",
       "      <td>2</td>\n",
       "      <td>5.0</td>\n",
       "      <td>10.0</td>\n",
       "      <td>15.0</td>\n",
       "      <td>3.0</td>\n",
       "      <td>South Indian Recipes</td>\n",
       "      <td>Main Course</td>\n",
       "      <td>Vegetarian</td>\n",
       "    </tr>\n",
       "    <tr>\n",
       "      <th>2</th>\n",
       "      <td>3</td>\n",
       "      <td>20.0</td>\n",
       "      <td>30.0</td>\n",
       "      <td>50.0</td>\n",
       "      <td>4.0</td>\n",
       "      <td>South Indian Recipes</td>\n",
       "      <td>South Indian Breakfast</td>\n",
       "      <td>High Protein Vegetarian</td>\n",
       "    </tr>\n",
       "    <tr>\n",
       "      <th>3</th>\n",
       "      <td>4</td>\n",
       "      <td>15.0</td>\n",
       "      <td>30.0</td>\n",
       "      <td>45.0</td>\n",
       "      <td>4.0</td>\n",
       "      <td>Andhra</td>\n",
       "      <td>Lunch</td>\n",
       "      <td>Non Vegeterian</td>\n",
       "    </tr>\n",
       "    <tr>\n",
       "      <th>4</th>\n",
       "      <td>5</td>\n",
       "      <td>10.0</td>\n",
       "      <td>20.0</td>\n",
       "      <td>30.0</td>\n",
       "      <td>4.0</td>\n",
       "      <td>Andhra</td>\n",
       "      <td>South Indian Breakfast</td>\n",
       "      <td>Vegetarian</td>\n",
       "    </tr>\n",
       "    <tr>\n",
       "      <th>...</th>\n",
       "      <td>...</td>\n",
       "      <td>...</td>\n",
       "      <td>...</td>\n",
       "      <td>...</td>\n",
       "      <td>...</td>\n",
       "      <td>...</td>\n",
       "      <td>...</td>\n",
       "      <td>...</td>\n",
       "    </tr>\n",
       "    <tr>\n",
       "      <th>6717</th>\n",
       "      <td>13826</td>\n",
       "      <td>29.0</td>\n",
       "      <td>31.0</td>\n",
       "      <td>59.0</td>\n",
       "      <td>6.0</td>\n",
       "      <td>South Indian Recipes</td>\n",
       "      <td>World Breakfast</td>\n",
       "      <td>High Protein Vegetarian</td>\n",
       "    </tr>\n",
       "    <tr>\n",
       "      <th>6718</th>\n",
       "      <td>13834</td>\n",
       "      <td>5.0</td>\n",
       "      <td>25.0</td>\n",
       "      <td>35.0</td>\n",
       "      <td>3.0</td>\n",
       "      <td>Awadhi</td>\n",
       "      <td>Lunch</td>\n",
       "      <td>Vegetarian</td>\n",
       "    </tr>\n",
       "    <tr>\n",
       "      <th>6719</th>\n",
       "      <td>13862</td>\n",
       "      <td>15.0</td>\n",
       "      <td>30.0</td>\n",
       "      <td>15.0</td>\n",
       "      <td>4.0</td>\n",
       "      <td>turmeric powder</td>\n",
       "      <td>Lunch</td>\n",
       "      <td>Non Vegeterian</td>\n",
       "    </tr>\n",
       "    <tr>\n",
       "      <th>6720</th>\n",
       "      <td>13887</td>\n",
       "      <td>15.0</td>\n",
       "      <td>10.0</td>\n",
       "      <td>70.0</td>\n",
       "      <td>2.0</td>\n",
       "      <td>Indian</td>\n",
       "      <td>add sambar powder</td>\n",
       "      <td>Vegetarian</td>\n",
       "    </tr>\n",
       "    <tr>\n",
       "      <th>6721</th>\n",
       "      <td>14030</td>\n",
       "      <td>30.0</td>\n",
       "      <td>20.0</td>\n",
       "      <td>50.0</td>\n",
       "      <td>4.0</td>\n",
       "      <td>Oriya Recipes</td>\n",
       "      <td>Main Course</td>\n",
       "      <td>Eggetarian</td>\n",
       "    </tr>\n",
       "  </tbody>\n",
       "</table>\n",
       "<p>6722 rows × 8 columns</p>\n",
       "</div>"
      ],
      "text/plain": [
       "       Srno  PrepTimeInMins  CookTimeInMins  TotalTimeInMins  Servings  \\\n",
       "0         1            15.0            30.0             45.0       6.0   \n",
       "1         2             5.0            10.0             15.0       3.0   \n",
       "2         3            20.0            30.0             50.0       4.0   \n",
       "3         4            15.0            30.0             45.0       4.0   \n",
       "4         5            10.0            20.0             30.0       4.0   \n",
       "...     ...             ...             ...              ...       ...   \n",
       "6717  13826            29.0            31.0             59.0       6.0   \n",
       "6718  13834             5.0            25.0             35.0       3.0   \n",
       "6719  13862            15.0            30.0             15.0       4.0   \n",
       "6720  13887            15.0            10.0             70.0       2.0   \n",
       "6721  14030            30.0            20.0             50.0       4.0   \n",
       "\n",
       "                   Cuisine                  Course                     Diet  \n",
       "0                   Indian               Side Dish        Diabetic Friendly  \n",
       "1     South Indian Recipes             Main Course               Vegetarian  \n",
       "2     South Indian Recipes  South Indian Breakfast  High Protein Vegetarian  \n",
       "3                   Andhra                   Lunch           Non Vegeterian  \n",
       "4                   Andhra  South Indian Breakfast               Vegetarian  \n",
       "...                    ...                     ...                      ...  \n",
       "6717  South Indian Recipes         World Breakfast  High Protein Vegetarian  \n",
       "6718                Awadhi                   Lunch               Vegetarian  \n",
       "6719       turmeric powder                   Lunch           Non Vegeterian  \n",
       "6720                Indian       add sambar powder               Vegetarian  \n",
       "6721         Oriya Recipes             Main Course               Eggetarian  \n",
       "\n",
       "[6722 rows x 8 columns]"
      ]
     },
     "execution_count": 7,
     "metadata": {},
     "output_type": "execute_result"
    }
   ],
   "source": [
    "import numpy as np\n",
    "df_hindi=df_hindi.replace('Nan',np.nan)\n",
    "df_hindi['PrepTimeInMins'] = df_hindi['PrepTimeInMins'].fillna(29)\n",
    "df_hindi\n",
    "\n",
    "df_hindi['CookTimeInMins'] = df_hindi['CookTimeInMins'].fillna(31)\n",
    "df_hindi\n",
    "\n",
    "df_hindi['TotalTimeInMins'] = df_hindi['TotalTimeInMins'].fillna(59)\n",
    "df_hindi\n",
    "\n",
    "df_hindi['Servings'] = df_hindi['Servings'].fillna(6)\n",
    "df_hindi"
   ]
  },
  {
   "cell_type": "code",
   "execution_count": 8,
   "id": "700f8051",
   "metadata": {},
   "outputs": [
    {
     "data": {
      "text/plain": [
       "Srno               0\n",
       "PrepTimeInMins     0\n",
       "CookTimeInMins     0\n",
       "TotalTimeInMins    0\n",
       "Servings           0\n",
       "Cuisine            0\n",
       "Course             0\n",
       "Diet               0\n",
       "dtype: int64"
      ]
     },
     "execution_count": 8,
     "metadata": {},
     "output_type": "execute_result"
    }
   ],
   "source": [
    "df_hindi.isnull().sum()"
   ]
  },
  {
   "cell_type": "code",
   "execution_count": 9,
   "id": "8fd7846f",
   "metadata": {},
   "outputs": [
    {
     "data": {
      "text/plain": [
       "Course\n",
       "Lunch                      1719\n",
       "Side Dish                   972\n",
       "Snack                       865\n",
       "Dinner                      769\n",
       "Dessert                     641\n",
       "Appetizer                   620\n",
       "Main Course                 307\n",
       "South Indian Breakfast      258\n",
       "World Breakfast             254\n",
       "North Indian Breakfast      117\n",
       "Indian Breakfast            100\n",
       "Vegetarian                   47\n",
       "One Pot Dish                 33\n",
       "High Protein Vegetarian       7\n",
       "Brunch                        4\n",
       "Vegan                         3\n",
       "Non Vegeterian                2\n",
       "Eggetarian                    1\n",
       "Sugar Free Diet               1\n",
       " kashmiri chilli powder       1\n",
       " add sambar powder            1\n",
       "Name: count, dtype: int64"
      ]
     },
     "execution_count": 9,
     "metadata": {},
     "output_type": "execute_result"
    }
   ],
   "source": [
    "df_hindi['Course'].value_counts()"
   ]
  },
  {
   "cell_type": "code",
   "execution_count": 10,
   "id": "4aede841",
   "metadata": {},
   "outputs": [],
   "source": [
    "df_hindi[df_hindi['Course']=='High Protein Vegetarian']\n",
    "df_hindi.drop([3302,4073,6517], inplace=True)\n",
    "df_hindi[df_hindi['Course']=='High Protein Vegetarian']\n",
    "df_hindi.drop([10,2463,2464,3301], inplace=True)"
   ]
  },
  {
   "cell_type": "code",
   "execution_count": 11,
   "id": "c2597a37",
   "metadata": {},
   "outputs": [
    {
     "data": {
      "text/plain": [
       "Course\n",
       "Lunch                      1719\n",
       "Side Dish                   972\n",
       "Snack                       865\n",
       "Dinner                      769\n",
       "Dessert                     641\n",
       "Appetizer                   620\n",
       "Main Course                 307\n",
       "South Indian Breakfast      258\n",
       "World Breakfast             254\n",
       "North Indian Breakfast      117\n",
       "Indian Breakfast            100\n",
       "Vegetarian                   47\n",
       "One Pot Dish                 33\n",
       "Brunch                        4\n",
       "Vegan                         3\n",
       "Non Vegeterian                2\n",
       "Eggetarian                    1\n",
       "Sugar Free Diet               1\n",
       " kashmiri chilli powder       1\n",
       " add sambar powder            1\n",
       "Name: count, dtype: int64"
      ]
     },
     "execution_count": 11,
     "metadata": {},
     "output_type": "execute_result"
    }
   ],
   "source": [
    "df_hindi['Course'].value_counts()"
   ]
  },
  {
   "cell_type": "code",
   "execution_count": 12,
   "id": "1592d14d",
   "metadata": {},
   "outputs": [],
   "source": [
    "df_hindi[df_hindi['Course']=='Vegan']\n",
    "df_hindi.drop([3474,4963,6578], inplace=True)"
   ]
  },
  {
   "cell_type": "code",
   "execution_count": 13,
   "id": "a076c902",
   "metadata": {},
   "outputs": [],
   "source": [
    "df_hindi[df_hindi['Course']=='Non Vegeterian']\n",
    "df_hindi.drop([167,2408], inplace=True)"
   ]
  },
  {
   "cell_type": "code",
   "execution_count": 14,
   "id": "b6e36949",
   "metadata": {},
   "outputs": [],
   "source": [
    "df_hindi[df_hindi['Course']=='Eggetarian']\n",
    "df_hindi.drop(423, inplace=True)         "
   ]
  },
  {
   "cell_type": "code",
   "execution_count": 15,
   "id": "beffd1bd",
   "metadata": {},
   "outputs": [],
   "source": [
    "df_hindi[df_hindi['Course']=='Sugar Free Diet']\n",
    "df_hindi.drop(5873, inplace=True)"
   ]
  },
  {
   "cell_type": "code",
   "execution_count": 16,
   "id": "06323c7b",
   "metadata": {},
   "outputs": [],
   "source": [
    "df_hindi[df_hindi['Course']==' kashmiri chilli powder']\n",
    "df_hindi.drop(6716, inplace=True)"
   ]
  },
  {
   "cell_type": "code",
   "execution_count": 17,
   "id": "191ec2ff",
   "metadata": {},
   "outputs": [],
   "source": [
    "df_hindi[df_hindi['Course']==' add sambar powder']\n",
    "df_hindi.drop(6720, inplace=True)"
   ]
  },
  {
   "cell_type": "code",
   "execution_count": 18,
   "id": "f3d66487",
   "metadata": {
    "scrolled": true
   },
   "outputs": [],
   "source": [
    "df_course2 = df_hindi[df_hindi['Cuisine']=='Appetizer'].index"
   ]
  },
  {
   "cell_type": "code",
   "execution_count": 19,
   "id": "d79843f3",
   "metadata": {},
   "outputs": [],
   "source": [
    "df_course3 = df_hindi[df_hindi['Cuisine']==' garam masala'].index"
   ]
  },
  {
   "cell_type": "code",
   "execution_count": 20,
   "id": "8b495d5c",
   "metadata": {},
   "outputs": [],
   "source": [
    "df_course4 = df_hindi[df_hindi['Cuisine']==' add the mutton'].index"
   ]
  },
  {
   "cell_type": "code",
   "execution_count": 21,
   "id": "aa5e0e34",
   "metadata": {},
   "outputs": [],
   "source": [
    "df_course5 = df_hindi[df_hindi['Cuisine']==' oil'].index"
   ]
  },
  {
   "cell_type": "code",
   "execution_count": 22,
   "id": "520f5bf3",
   "metadata": {},
   "outputs": [],
   "source": [
    "df_course6 = df_hindi[df_hindi['Cuisine']==' turmeric powder'].index\n",
    "df_course7 = df_hindi[df_hindi['Cuisine']=='Brunch'].index"
   ]
  },
  {
   "cell_type": "code",
   "execution_count": 23,
   "id": "58998190",
   "metadata": {},
   "outputs": [],
   "source": [
    "df_hindi.drop(df_course2, inplace=True)"
   ]
  },
  {
   "cell_type": "code",
   "execution_count": 24,
   "id": "a54df114",
   "metadata": {},
   "outputs": [],
   "source": [
    "df_hindi.drop(df_course3, inplace=True)"
   ]
  },
  {
   "cell_type": "code",
   "execution_count": 25,
   "id": "6b72be5c",
   "metadata": {},
   "outputs": [],
   "source": [
    "df_hindi.drop(df_course4, inplace=True)"
   ]
  },
  {
   "cell_type": "code",
   "execution_count": 26,
   "id": "f379ad3d",
   "metadata": {},
   "outputs": [],
   "source": [
    "df_hindi.drop(df_course5, inplace=True)"
   ]
  },
  {
   "cell_type": "code",
   "execution_count": 27,
   "id": "428f526b",
   "metadata": {},
   "outputs": [],
   "source": [
    "df_hindi.drop(df_course6, inplace=True)"
   ]
  },
  {
   "cell_type": "code",
   "execution_count": 28,
   "id": "a3c44eb7",
   "metadata": {},
   "outputs": [],
   "source": [
    "df_hindi.drop(df_course7, inplace=True)"
   ]
  },
  {
   "cell_type": "code",
   "execution_count": 29,
   "id": "e712a472",
   "metadata": {},
   "outputs": [
    {
     "data": {
      "text/html": [
       "<div>\n",
       "<style scoped>\n",
       "    .dataframe tbody tr th:only-of-type {\n",
       "        vertical-align: middle;\n",
       "    }\n",
       "\n",
       "    .dataframe tbody tr th {\n",
       "        vertical-align: top;\n",
       "    }\n",
       "\n",
       "    .dataframe thead th {\n",
       "        text-align: right;\n",
       "    }\n",
       "</style>\n",
       "<table border=\"1\" class=\"dataframe\">\n",
       "  <thead>\n",
       "    <tr style=\"text-align: right;\">\n",
       "      <th></th>\n",
       "      <th>index</th>\n",
       "      <th>Srno</th>\n",
       "      <th>PrepTimeInMins</th>\n",
       "      <th>CookTimeInMins</th>\n",
       "      <th>TotalTimeInMins</th>\n",
       "      <th>Servings</th>\n",
       "      <th>Cuisine</th>\n",
       "      <th>Course</th>\n",
       "      <th>Diet</th>\n",
       "    </tr>\n",
       "  </thead>\n",
       "  <tbody>\n",
       "    <tr>\n",
       "      <th>0</th>\n",
       "      <td>0</td>\n",
       "      <td>1</td>\n",
       "      <td>15.0</td>\n",
       "      <td>30.0</td>\n",
       "      <td>45.0</td>\n",
       "      <td>6.0</td>\n",
       "      <td>Indian</td>\n",
       "      <td>Side Dish</td>\n",
       "      <td>Diabetic Friendly</td>\n",
       "    </tr>\n",
       "    <tr>\n",
       "      <th>1</th>\n",
       "      <td>1</td>\n",
       "      <td>2</td>\n",
       "      <td>5.0</td>\n",
       "      <td>10.0</td>\n",
       "      <td>15.0</td>\n",
       "      <td>3.0</td>\n",
       "      <td>South Indian Recipes</td>\n",
       "      <td>Main Course</td>\n",
       "      <td>Vegetarian</td>\n",
       "    </tr>\n",
       "    <tr>\n",
       "      <th>2</th>\n",
       "      <td>2</td>\n",
       "      <td>3</td>\n",
       "      <td>20.0</td>\n",
       "      <td>30.0</td>\n",
       "      <td>50.0</td>\n",
       "      <td>4.0</td>\n",
       "      <td>South Indian Recipes</td>\n",
       "      <td>South Indian Breakfast</td>\n",
       "      <td>High Protein Vegetarian</td>\n",
       "    </tr>\n",
       "    <tr>\n",
       "      <th>3</th>\n",
       "      <td>3</td>\n",
       "      <td>4</td>\n",
       "      <td>15.0</td>\n",
       "      <td>30.0</td>\n",
       "      <td>45.0</td>\n",
       "      <td>4.0</td>\n",
       "      <td>Andhra</td>\n",
       "      <td>Lunch</td>\n",
       "      <td>Non Vegeterian</td>\n",
       "    </tr>\n",
       "    <tr>\n",
       "      <th>4</th>\n",
       "      <td>4</td>\n",
       "      <td>5</td>\n",
       "      <td>10.0</td>\n",
       "      <td>20.0</td>\n",
       "      <td>30.0</td>\n",
       "      <td>4.0</td>\n",
       "      <td>Andhra</td>\n",
       "      <td>South Indian Breakfast</td>\n",
       "      <td>Vegetarian</td>\n",
       "    </tr>\n",
       "  </tbody>\n",
       "</table>\n",
       "</div>"
      ],
      "text/plain": [
       "   index  Srno  PrepTimeInMins  CookTimeInMins  TotalTimeInMins  Servings  \\\n",
       "0      0     1            15.0            30.0             45.0       6.0   \n",
       "1      1     2             5.0            10.0             15.0       3.0   \n",
       "2      2     3            20.0            30.0             50.0       4.0   \n",
       "3      3     4            15.0            30.0             45.0       4.0   \n",
       "4      4     5            10.0            20.0             30.0       4.0   \n",
       "\n",
       "                Cuisine                  Course                     Diet  \n",
       "0                Indian               Side Dish        Diabetic Friendly  \n",
       "1  South Indian Recipes             Main Course               Vegetarian  \n",
       "2  South Indian Recipes  South Indian Breakfast  High Protein Vegetarian  \n",
       "3                Andhra                   Lunch           Non Vegeterian  \n",
       "4                Andhra  South Indian Breakfast               Vegetarian  "
      ]
     },
     "execution_count": 29,
     "metadata": {},
     "output_type": "execute_result"
    }
   ],
   "source": [
    "df_course = df_hindi[df_hindi['Course']=='Vegetarian'].index\n",
    "df_hindi.drop(df_course, inplace=True)\n",
    "df_hindi['Course'].value_counts()\n",
    "df_hindi.reset_index(inplace=True)\n",
    "df_hindi.head()"
   ]
  },
  {
   "cell_type": "code",
   "execution_count": 30,
   "id": "6dae4718",
   "metadata": {},
   "outputs": [
    {
     "data": {
      "text/html": [
       "<div>\n",
       "<style scoped>\n",
       "    .dataframe tbody tr th:only-of-type {\n",
       "        vertical-align: middle;\n",
       "    }\n",
       "\n",
       "    .dataframe tbody tr th {\n",
       "        vertical-align: top;\n",
       "    }\n",
       "\n",
       "    .dataframe thead th {\n",
       "        text-align: right;\n",
       "    }\n",
       "</style>\n",
       "<table border=\"1\" class=\"dataframe\">\n",
       "  <thead>\n",
       "    <tr style=\"text-align: right;\">\n",
       "      <th></th>\n",
       "      <th>Srno</th>\n",
       "      <th>PrepTimeInMins</th>\n",
       "      <th>CookTimeInMins</th>\n",
       "      <th>TotalTimeInMins</th>\n",
       "      <th>Servings</th>\n",
       "      <th>Cuisine</th>\n",
       "      <th>Course</th>\n",
       "      <th>Diet</th>\n",
       "    </tr>\n",
       "  </thead>\n",
       "  <tbody>\n",
       "    <tr>\n",
       "      <th>0</th>\n",
       "      <td>1</td>\n",
       "      <td>15.0</td>\n",
       "      <td>30.0</td>\n",
       "      <td>45.0</td>\n",
       "      <td>6.0</td>\n",
       "      <td>Indian</td>\n",
       "      <td>Side Dish</td>\n",
       "      <td>Diabetic Friendly</td>\n",
       "    </tr>\n",
       "    <tr>\n",
       "      <th>1</th>\n",
       "      <td>2</td>\n",
       "      <td>5.0</td>\n",
       "      <td>10.0</td>\n",
       "      <td>15.0</td>\n",
       "      <td>3.0</td>\n",
       "      <td>South Indian Recipes</td>\n",
       "      <td>Main Course</td>\n",
       "      <td>Vegetarian</td>\n",
       "    </tr>\n",
       "    <tr>\n",
       "      <th>2</th>\n",
       "      <td>3</td>\n",
       "      <td>20.0</td>\n",
       "      <td>30.0</td>\n",
       "      <td>50.0</td>\n",
       "      <td>4.0</td>\n",
       "      <td>South Indian Recipes</td>\n",
       "      <td>South Indian Breakfast</td>\n",
       "      <td>High Protein Vegetarian</td>\n",
       "    </tr>\n",
       "    <tr>\n",
       "      <th>3</th>\n",
       "      <td>4</td>\n",
       "      <td>15.0</td>\n",
       "      <td>30.0</td>\n",
       "      <td>45.0</td>\n",
       "      <td>4.0</td>\n",
       "      <td>Andhra</td>\n",
       "      <td>Lunch</td>\n",
       "      <td>Non Vegeterian</td>\n",
       "    </tr>\n",
       "    <tr>\n",
       "      <th>4</th>\n",
       "      <td>5</td>\n",
       "      <td>10.0</td>\n",
       "      <td>20.0</td>\n",
       "      <td>30.0</td>\n",
       "      <td>4.0</td>\n",
       "      <td>Andhra</td>\n",
       "      <td>South Indian Breakfast</td>\n",
       "      <td>Vegetarian</td>\n",
       "    </tr>\n",
       "  </tbody>\n",
       "</table>\n",
       "</div>"
      ],
      "text/plain": [
       "   Srno  PrepTimeInMins  CookTimeInMins  TotalTimeInMins  Servings  \\\n",
       "0     1            15.0            30.0             45.0       6.0   \n",
       "1     2             5.0            10.0             15.0       3.0   \n",
       "2     3            20.0            30.0             50.0       4.0   \n",
       "3     4            15.0            30.0             45.0       4.0   \n",
       "4     5            10.0            20.0             30.0       4.0   \n",
       "\n",
       "                Cuisine                  Course                     Diet  \n",
       "0                Indian               Side Dish        Diabetic Friendly  \n",
       "1  South Indian Recipes             Main Course               Vegetarian  \n",
       "2  South Indian Recipes  South Indian Breakfast  High Protein Vegetarian  \n",
       "3                Andhra                   Lunch           Non Vegeterian  \n",
       "4                Andhra  South Indian Breakfast               Vegetarian  "
      ]
     },
     "execution_count": 30,
     "metadata": {},
     "output_type": "execute_result"
    }
   ],
   "source": [
    "df_hindi.drop(['index'], axis=1, inplace=True)\n",
    "df_hindi.head()"
   ]
  },
  {
   "cell_type": "code",
   "execution_count": 31,
   "id": "a5849f06",
   "metadata": {},
   "outputs": [
    {
     "data": {
      "text/plain": [
       "30.901383042693926"
      ]
     },
     "execution_count": 31,
     "metadata": {},
     "output_type": "execute_result"
    }
   ],
   "source": [
    "df_hindi['CookTimeInMins'].mean()"
   ]
  },
  {
   "cell_type": "code",
   "execution_count": 32,
   "id": "5bbc4e92",
   "metadata": {},
   "outputs": [
    {
     "data": {
      "text/plain": [
       "13"
      ]
     },
     "execution_count": 32,
     "metadata": {},
     "output_type": "execute_result"
    }
   ],
   "source": [
    "df_hindi['Course'].nunique()"
   ]
  },
  {
   "cell_type": "code",
   "execution_count": 33,
   "id": "aa3d15cf",
   "metadata": {},
   "outputs": [
    {
     "data": {
      "text/plain": [
       "73"
      ]
     },
     "execution_count": 33,
     "metadata": {},
     "output_type": "execute_result"
    }
   ],
   "source": [
    "df_hindi['Cuisine'].nunique()"
   ]
  },
  {
   "cell_type": "code",
   "execution_count": 34,
   "id": "0f1c24c4",
   "metadata": {},
   "outputs": [
    {
     "data": {
      "text/plain": [
       "Diet\n",
       "Vegetarian                     4571\n",
       "High Protein Vegetarian         673\n",
       "Non Vegeterian                  416\n",
       "Eggetarian                      334\n",
       "Diabetic Friendly               249\n",
       "High Protein Non Vegetarian     216\n",
       "No Onion No Garlic Sattvic       70\n",
       "Vegan                            61\n",
       "Gluten Free                      48\n",
       "Sugar Free Diet                  14\n",
       "Name: count, dtype: int64"
      ]
     },
     "execution_count": 34,
     "metadata": {},
     "output_type": "execute_result"
    }
   ],
   "source": [
    "df_hindi['Diet'].value_counts()"
   ]
  },
  {
   "cell_type": "code",
   "execution_count": 35,
   "id": "7b99a3b5",
   "metadata": {
    "scrolled": true
   },
   "outputs": [
    {
     "data": {
      "text/plain": [
       "array(['Indian', 'South Indian Recipes', 'Andhra', 'Udupi', 'Mexican',\n",
       "       'Continental', 'Bengali Recipes', 'Punjabi', 'Chettinad',\n",
       "       'Tamil Nadu', 'Maharashtrian Recipes', 'Fusion',\n",
       "       'North Indian Recipes', 'Italian Recipes', 'Sindhi', 'Thai',\n",
       "       'Chinese', 'Kerala Recipes', 'Gujarati Recipes', 'Coorg',\n",
       "       'Rajasthani', 'Asian', 'Middle Eastern', 'Coastal Karnataka',\n",
       "       'European', 'Kashmiri', 'Karnataka', 'Lucknowi', 'Hyderabadi',\n",
       "       'Goan Recipes', 'Arab', 'Assamese', 'Bihari', 'Malabar',\n",
       "       'Himachal', 'Awadhi', 'Cantonese', 'North East India Recipes',\n",
       "       'Sichuan', 'Mughlai', 'Japanese', 'Mangalorean', 'Vietnamese',\n",
       "       'British', 'North Karnataka', 'Parsi Recipes', 'Greek', 'Nepalese',\n",
       "       'Oriya Recipes', 'French', 'Indo Chinese', 'Konkan',\n",
       "       'Mediterranean', 'Sri Lankan', 'Haryana', 'Uttar Pradesh',\n",
       "       'Malvani', 'Indonesian', 'African', 'Korean', 'American',\n",
       "       'Kongunadu', 'Pakistani', 'Caribbean', 'South Karnataka',\n",
       "       'Uttarakhand-North Kumaon', 'Malaysian', 'Hunan', 'Jewish',\n",
       "       'Burmese', 'Afghan', 'Jharkhand', 'Nagaland'], dtype=object)"
      ]
     },
     "execution_count": 35,
     "metadata": {},
     "output_type": "execute_result"
    }
   ],
   "source": [
    "df_hindi['Cuisine'].unique()"
   ]
  },
  {
   "cell_type": "code",
   "execution_count": 36,
   "id": "e383d61b",
   "metadata": {},
   "outputs": [],
   "source": [
    "df_hindi['Cuisine'].replace('Andhra', 'South Indian', inplace= True)\n",
    "df_hindi['Cuisine'].replace('Udupi', 'SouthWest Indian', inplace= True)\n",
    "df_hindi['Cuisine'].replace('Continental', 'European', inplace= True)\n",
    "df_hindi['Cuisine'].replace('Bengali Recipes', 'South Asian', inplace= True)\n",
    "df_hindi['Cuisine'].replace('Punjabi', 'South Asian', inplace= True)\n",
    "df_hindi['Cuisine'].replace('Chettinad', 'South Indian', inplace= True)\n",
    "df_hindi['Cuisine'].replace('Tamil Nadu', 'South Indian', inplace= True)\n",
    "df_hindi['Cuisine'].replace('Maharashtrian Recipes', 'West Indian', inplace= True)\n",
    "df_hindi['Cuisine'].replace('Sindhi', 'Pakistani', inplace= True)\n",
    "df_hindi['Cuisine'].replace('Kerala Recipes', 'SouthWest Indian', inplace= True)\n",
    "df_hindi['Cuisine'].replace('Gujarati Recipes', 'West Indian', inplace= True)\n",
    "df_hindi['Cuisine'].replace('Coorg', 'SouthWest Indian', inplace= True)\n",
    "df_hindi['Cuisine'].replace('Rajasthani', 'NorthWest Indian', inplace= True)\n",
    "df_hindi['Cuisine'].replace('Coastal Karnataka', 'SouthWest Indian', inplace= True)\n",
    "df_hindi['Cuisine'].replace('Kashmiri', 'North Indian', inplace= True)\n",
    "df_hindi['Cuisine'].replace('Karnataka', 'SouthWest Indian', inplace= True)\n",
    "df_hindi['Cuisine'].replace('Lucknowi', 'North Indian', inplace= True)\n",
    "df_hindi['Cuisine'].replace('South Indian Recipes', 'South Indian', inplace= True)\n",
    "df_hindi['Cuisine'].replace('North Indian Recipes', 'North Indian', inplace= True)\n",
    "df_hindi['Cuisine'].replace('Hyderabadi', 'South Indian', inplace= True)\n",
    "df_hindi['Cuisine'].replace('Goan Recipes', 'SouthWest Indian', inplace= True)\n",
    "df_hindi['Cuisine'].replace('Assamese', 'NorthEast Indian', inplace= True)\n",
    "df_hindi['Cuisine'].replace('Bihari', 'East Indian', inplace= True)\n",
    "df_hindi['Cuisine'].replace('Malabar', 'SouthWest Indian', inplace= True)\n",
    "df_hindi['Cuisine'].replace('Himachal', 'North Indian', inplace= True)\n",
    "df_hindi['Cuisine'].replace('Awadhi', 'North Indian', inplace= True)\n",
    "df_hindi['Cuisine'].replace('North East India Recipes', 'NorthEast Indian', inplace= True)\n",
    "df_hindi['Cuisine'].replace('Sichuan', 'Chinese', inplace= True)\n",
    "df_hindi['Cuisine'].replace('Mughlai', 'North Indian', inplace= True)\n",
    "df_hindi['Cuisine'].replace('Mangalorean', 'SouthWest Indian', inplace= True)\n",
    "df_hindi['Cuisine'].replace('British', 'European', inplace= True)\n",
    "df_hindi['Cuisine'].replace('North Karnataka', 'SouthWest Indian', inplace= True) \n",
    "df_hindi['Cuisine'].replace('Parsi Recipes', 'Persian', inplace= True)\n",
    "df_hindi['Cuisine'].replace('Nepalese', 'South Asian', inplace= True)\n",
    "df_hindi['Cuisine'].replace('Oriya Recipes', 'East Indian', inplace= True)\n",
    "df_hindi['Cuisine'].replace('French', 'European', inplace= True)\n",
    "df_hindi['Cuisine'].replace('Indo Chinese', 'Chinese', inplace= True)\n",
    "df_hindi['Cuisine'].replace('Konkan', 'West Indian', inplace= True)\n",
    "df_hindi['Cuisine'].replace('Sri Lankan', 'South Asian', inplace= True)\n",
    "df_hindi['Cuisine'].replace('Haryana', 'North Indian', inplace= True)\n",
    "df_hindi['Cuisine'].replace('Uttar Pradesh', 'North Indian', inplace= True)\n",
    "df_hindi['Cuisine'].replace('Malvani', 'West Indian', inplace= True)\n",
    "df_hindi['Cuisine'].replace('Indonesian', 'SouthEast Asian', inplace= True)\n",
    "df_hindi['Cuisine'].replace('Kongunadu', 'South Indian', inplace= True)\n",
    "df_hindi['Cuisine'].replace('South Karnataka', 'South Indian', inplace= True)\n",
    "df_hindi['Cuisine'].replace('Uttarakhand-North Kumaon', 'East Indian', inplace= True)\n",
    "df_hindi['Cuisine'].replace('Malaysian', 'SouthEast Asian', inplace= True)\n",
    "df_hindi['Cuisine'].replace('Hunan', 'Chinese', inplace= True)\n",
    "df_hindi['Cuisine'].replace('Burmese', 'SouthEast Asian', inplace= True)\n",
    "df_hindi['Cuisine'].replace('Jharkhand', 'East Indian', inplace= True)\n",
    "df_hindi['Cuisine'].replace('Nagaland', 'NorthEast Indian', inplace= True)"
   ]
  },
  {
   "cell_type": "code",
   "execution_count": 37,
   "id": "65ca35e3",
   "metadata": {},
   "outputs": [
    {
     "data": {
      "text/html": [
       "<div>\n",
       "<style scoped>\n",
       "    .dataframe tbody tr th:only-of-type {\n",
       "        vertical-align: middle;\n",
       "    }\n",
       "\n",
       "    .dataframe tbody tr th {\n",
       "        vertical-align: top;\n",
       "    }\n",
       "\n",
       "    .dataframe thead th {\n",
       "        text-align: right;\n",
       "    }\n",
       "</style>\n",
       "<table border=\"1\" class=\"dataframe\">\n",
       "  <thead>\n",
       "    <tr style=\"text-align: right;\">\n",
       "      <th></th>\n",
       "      <th>Srno</th>\n",
       "      <th>PrepTimeInMins</th>\n",
       "      <th>CookTimeInMins</th>\n",
       "      <th>TotalTimeInMins</th>\n",
       "      <th>Servings</th>\n",
       "      <th>Cuisine</th>\n",
       "      <th>Course</th>\n",
       "      <th>Diet</th>\n",
       "    </tr>\n",
       "  </thead>\n",
       "  <tbody>\n",
       "    <tr>\n",
       "      <th>0</th>\n",
       "      <td>1</td>\n",
       "      <td>15.0</td>\n",
       "      <td>30.0</td>\n",
       "      <td>45.0</td>\n",
       "      <td>6.0</td>\n",
       "      <td>Indian</td>\n",
       "      <td>Side Dish</td>\n",
       "      <td>Diabetic Friendly</td>\n",
       "    </tr>\n",
       "    <tr>\n",
       "      <th>1</th>\n",
       "      <td>2</td>\n",
       "      <td>5.0</td>\n",
       "      <td>10.0</td>\n",
       "      <td>15.0</td>\n",
       "      <td>3.0</td>\n",
       "      <td>South Indian</td>\n",
       "      <td>Main Course</td>\n",
       "      <td>Vegetarian</td>\n",
       "    </tr>\n",
       "    <tr>\n",
       "      <th>2</th>\n",
       "      <td>3</td>\n",
       "      <td>20.0</td>\n",
       "      <td>30.0</td>\n",
       "      <td>50.0</td>\n",
       "      <td>4.0</td>\n",
       "      <td>South Indian</td>\n",
       "      <td>South Indian Breakfast</td>\n",
       "      <td>High Protein Vegetarian</td>\n",
       "    </tr>\n",
       "    <tr>\n",
       "      <th>3</th>\n",
       "      <td>4</td>\n",
       "      <td>15.0</td>\n",
       "      <td>30.0</td>\n",
       "      <td>45.0</td>\n",
       "      <td>4.0</td>\n",
       "      <td>South Indian</td>\n",
       "      <td>Lunch</td>\n",
       "      <td>Non Vegeterian</td>\n",
       "    </tr>\n",
       "    <tr>\n",
       "      <th>4</th>\n",
       "      <td>5</td>\n",
       "      <td>10.0</td>\n",
       "      <td>20.0</td>\n",
       "      <td>30.0</td>\n",
       "      <td>4.0</td>\n",
       "      <td>South Indian</td>\n",
       "      <td>South Indian Breakfast</td>\n",
       "      <td>Vegetarian</td>\n",
       "    </tr>\n",
       "    <tr>\n",
       "      <th>...</th>\n",
       "      <td>...</td>\n",
       "      <td>...</td>\n",
       "      <td>...</td>\n",
       "      <td>...</td>\n",
       "      <td>...</td>\n",
       "      <td>...</td>\n",
       "      <td>...</td>\n",
       "      <td>...</td>\n",
       "    </tr>\n",
       "    <tr>\n",
       "      <th>6647</th>\n",
       "      <td>13386</td>\n",
       "      <td>29.0</td>\n",
       "      <td>30.0</td>\n",
       "      <td>59.0</td>\n",
       "      <td>2.0</td>\n",
       "      <td>European</td>\n",
       "      <td>Snack</td>\n",
       "      <td>Vegetarian</td>\n",
       "    </tr>\n",
       "    <tr>\n",
       "      <th>6648</th>\n",
       "      <td>13663</td>\n",
       "      <td>60.0</td>\n",
       "      <td>31.0</td>\n",
       "      <td>40.0</td>\n",
       "      <td>6.0</td>\n",
       "      <td>Indian</td>\n",
       "      <td>Dessert</td>\n",
       "      <td>Eggetarian</td>\n",
       "    </tr>\n",
       "    <tr>\n",
       "      <th>6649</th>\n",
       "      <td>13826</td>\n",
       "      <td>29.0</td>\n",
       "      <td>31.0</td>\n",
       "      <td>59.0</td>\n",
       "      <td>6.0</td>\n",
       "      <td>South Indian</td>\n",
       "      <td>World Breakfast</td>\n",
       "      <td>High Protein Vegetarian</td>\n",
       "    </tr>\n",
       "    <tr>\n",
       "      <th>6650</th>\n",
       "      <td>13834</td>\n",
       "      <td>5.0</td>\n",
       "      <td>25.0</td>\n",
       "      <td>35.0</td>\n",
       "      <td>3.0</td>\n",
       "      <td>North Indian</td>\n",
       "      <td>Lunch</td>\n",
       "      <td>Vegetarian</td>\n",
       "    </tr>\n",
       "    <tr>\n",
       "      <th>6651</th>\n",
       "      <td>14030</td>\n",
       "      <td>30.0</td>\n",
       "      <td>20.0</td>\n",
       "      <td>50.0</td>\n",
       "      <td>4.0</td>\n",
       "      <td>East Indian</td>\n",
       "      <td>Main Course</td>\n",
       "      <td>Eggetarian</td>\n",
       "    </tr>\n",
       "  </tbody>\n",
       "</table>\n",
       "<p>6652 rows × 8 columns</p>\n",
       "</div>"
      ],
      "text/plain": [
       "       Srno  PrepTimeInMins  CookTimeInMins  TotalTimeInMins  Servings  \\\n",
       "0         1            15.0            30.0             45.0       6.0   \n",
       "1         2             5.0            10.0             15.0       3.0   \n",
       "2         3            20.0            30.0             50.0       4.0   \n",
       "3         4            15.0            30.0             45.0       4.0   \n",
       "4         5            10.0            20.0             30.0       4.0   \n",
       "...     ...             ...             ...              ...       ...   \n",
       "6647  13386            29.0            30.0             59.0       2.0   \n",
       "6648  13663            60.0            31.0             40.0       6.0   \n",
       "6649  13826            29.0            31.0             59.0       6.0   \n",
       "6650  13834             5.0            25.0             35.0       3.0   \n",
       "6651  14030            30.0            20.0             50.0       4.0   \n",
       "\n",
       "           Cuisine                  Course                     Diet  \n",
       "0           Indian               Side Dish        Diabetic Friendly  \n",
       "1     South Indian             Main Course               Vegetarian  \n",
       "2     South Indian  South Indian Breakfast  High Protein Vegetarian  \n",
       "3     South Indian                   Lunch           Non Vegeterian  \n",
       "4     South Indian  South Indian Breakfast               Vegetarian  \n",
       "...            ...                     ...                      ...  \n",
       "6647      European                   Snack               Vegetarian  \n",
       "6648        Indian                 Dessert               Eggetarian  \n",
       "6649  South Indian         World Breakfast  High Protein Vegetarian  \n",
       "6650  North Indian                   Lunch               Vegetarian  \n",
       "6651   East Indian             Main Course               Eggetarian  \n",
       "\n",
       "[6652 rows x 8 columns]"
      ]
     },
     "execution_count": 37,
     "metadata": {},
     "output_type": "execute_result"
    }
   ],
   "source": [
    "df_hindi"
   ]
  },
  {
   "cell_type": "code",
   "execution_count": 38,
   "id": "09c931cc",
   "metadata": {},
   "outputs": [
    {
     "data": {
      "text/plain": [
       "32"
      ]
     },
     "execution_count": 38,
     "metadata": {},
     "output_type": "execute_result"
    }
   ],
   "source": [
    "df_hindi['Cuisine'].nunique()"
   ]
  },
  {
   "cell_type": "code",
   "execution_count": 39,
   "id": "2364f1c1",
   "metadata": {},
   "outputs": [
    {
     "data": {
      "text/plain": [
       "10"
      ]
     },
     "execution_count": 39,
     "metadata": {},
     "output_type": "execute_result"
    }
   ],
   "source": [
    "df_hindi['Diet'].nunique()"
   ]
  },
  {
   "cell_type": "code",
   "execution_count": 40,
   "id": "4ab2f8f5",
   "metadata": {},
   "outputs": [
    {
     "data": {
      "text/plain": [
       "Cuisine\n",
       "Afghan              3.333333\n",
       "African             3.647059\n",
       "American            6.571429\n",
       "Arab                3.500000\n",
       "Asian               3.794118\n",
       "Cantonese           4.166667\n",
       "Caribbean           5.000000\n",
       "Chinese             4.100000\n",
       "East Indian         3.926471\n",
       "European            5.159284\n",
       "Fusion              3.872180\n",
       "Greek               4.000000\n",
       "Indian              5.811881\n",
       "Italian Recipes     6.247788\n",
       "Japanese            4.076923\n",
       "Jewish              3.000000\n",
       "Korean              3.000000\n",
       "Mediterranean       4.178571\n",
       "Mexican             4.194915\n",
       "Middle Eastern      4.040000\n",
       "North Indian        4.520586\n",
       "NorthEast Indian    3.479167\n",
       "NorthWest Indian    8.272727\n",
       "Pakistani           4.477273\n",
       "Persian             4.250000\n",
       "South Asian         3.895683\n",
       "South Indian        7.502388\n",
       "SouthEast Asian     3.400000\n",
       "SouthWest Indian    4.235632\n",
       "Thai                3.984848\n",
       "Vietnamese          3.600000\n",
       "West Indian         6.201893\n",
       "Name: Servings, dtype: float64"
      ]
     },
     "execution_count": 40,
     "metadata": {},
     "output_type": "execute_result"
    }
   ],
   "source": [
    "df_hindi.groupby('Cuisine')[('Servings')].mean()"
   ]
  },
  {
   "cell_type": "code",
   "execution_count": 41,
   "id": "c1605bc2",
   "metadata": {},
   "outputs": [
    {
     "data": {
      "text/plain": [
       "Course\n",
       "Appetizer                  6.817447\n",
       "Brunch                     4.000000\n",
       "Dessert                    6.107644\n",
       "Dinner                     4.992188\n",
       "Indian Breakfast           3.730000\n",
       "Lunch                      3.902212\n",
       "Main Course                4.785016\n",
       "North Indian Breakfast     3.777778\n",
       "One Pot Dish               3.818182\n",
       "Side Dish                  6.415036\n",
       "Snack                      4.726535\n",
       "South Indian Breakfast    14.202335\n",
       "World Breakfast            3.370079\n",
       "Name: Servings, dtype: float64"
      ]
     },
     "execution_count": 41,
     "metadata": {},
     "output_type": "execute_result"
    }
   ],
   "source": [
    "df_hindi.groupby('Course')[('Servings')].mean()"
   ]
  },
  {
   "cell_type": "code",
   "execution_count": 42,
   "id": "c25c902d",
   "metadata": {},
   "outputs": [
    {
     "data": {
      "text/plain": [
       "Diet\n",
       "Diabetic Friendly              3.987952\n",
       "Eggetarian                     4.655689\n",
       "Gluten Free                    3.750000\n",
       "High Protein Non Vegetarian    5.004630\n",
       "High Protein Vegetarian        7.824666\n",
       "No Onion No Garlic Sattvic     5.571429\n",
       "Non Vegeterian                 3.961538\n",
       "Sugar Free Diet                3.285714\n",
       "Vegan                          4.278689\n",
       "Vegetarian                     5.358346\n",
       "Name: Servings, dtype: float64"
      ]
     },
     "execution_count": 42,
     "metadata": {},
     "output_type": "execute_result"
    }
   ],
   "source": [
    "df_hindi.groupby('Diet')[('Servings')].mean()"
   ]
  },
  {
   "cell_type": "code",
   "execution_count": 43,
   "id": "28a8fa31",
   "metadata": {},
   "outputs": [
    {
     "data": {
      "text/plain": [
       "Cuisine\n",
       "Afghan              15.000000\n",
       "African             40.000000\n",
       "American            42.857143\n",
       "Arab                40.000000\n",
       "Asian               26.250000\n",
       "Cantonese           26.666667\n",
       "Caribbean           38.750000\n",
       "Chinese             28.909091\n",
       "East Indian         37.426471\n",
       "European            37.970782\n",
       "Fusion              31.887218\n",
       "Greek               35.588235\n",
       "Indian              26.027003\n",
       "Italian Recipes     44.017699\n",
       "Japanese            24.230769\n",
       "Jewish              45.000000\n",
       "Korean              30.000000\n",
       "Mediterranean       26.857143\n",
       "Mexican             30.237288\n",
       "Middle Eastern      34.400000\n",
       "North Indian        32.187557\n",
       "NorthEast Indian    23.020833\n",
       "NorthWest Indian    32.983471\n",
       "Pakistani           33.522727\n",
       "Persian             33.068182\n",
       "South Asian         34.784173\n",
       "South Indian        26.291309\n",
       "SouthEast Asian     23.333333\n",
       "SouthWest Indian    28.540230\n",
       "Thai                26.287879\n",
       "Vietnamese          24.700000\n",
       "West Indian         26.671924\n",
       "Name: CookTimeInMins, dtype: float64"
      ]
     },
     "execution_count": 43,
     "metadata": {},
     "output_type": "execute_result"
    }
   ],
   "source": [
    "df_hindi.groupby('Cuisine')[('CookTimeInMins')].mean()"
   ]
  },
  {
   "cell_type": "code",
   "execution_count": 44,
   "id": "fac31993",
   "metadata": {},
   "outputs": [
    {
     "data": {
      "text/plain": [
       "Cuisine\n",
       "Afghan              15.000000\n",
       "African             15.000000\n",
       "American            26.428571\n",
       "Arab                15.000000\n",
       "Asian               14.264706\n",
       "Cantonese           19.166667\n",
       "Caribbean           26.250000\n",
       "Chinese             22.318182\n",
       "East Indian         73.867647\n",
       "European            30.161169\n",
       "Fusion              26.691729\n",
       "Greek               87.352941\n",
       "Indian              25.098110\n",
       "Italian Recipes     20.553097\n",
       "Japanese            18.461538\n",
       "Jewish              15.000000\n",
       "Korean              20.000000\n",
       "Mediterranean       15.000000\n",
       "Mexican             23.042373\n",
       "Middle Eastern      43.900000\n",
       "North Indian        27.479414\n",
       "NorthEast Indian    25.416667\n",
       "NorthWest Indian    15.429752\n",
       "Pakistani           19.522727\n",
       "Persian             13.409091\n",
       "South Asian         28.298561\n",
       "South Indian        32.166189\n",
       "SouthEast Asian     13.666667\n",
       "SouthWest Indian    38.892720\n",
       "Thai                14.848485\n",
       "Vietnamese          13.500000\n",
       "West Indian         23.082019\n",
       "Name: PrepTimeInMins, dtype: float64"
      ]
     },
     "execution_count": 44,
     "metadata": {},
     "output_type": "execute_result"
    }
   ],
   "source": [
    "df_hindi.groupby('Cuisine')[('PrepTimeInMins')].mean()"
   ]
  },
  {
   "cell_type": "code",
   "execution_count": 45,
   "id": "80801c81",
   "metadata": {
    "scrolled": true
   },
   "outputs": [
    {
     "data": {
      "text/plain": [
       "Cuisine\n",
       "Afghan               48.541517\n",
       "African              48.541517\n",
       "American             85.525529\n",
       "Arab                 48.541517\n",
       "Asian                46.162031\n",
       "Cantonese            62.025271\n",
       "Caribbean            84.947654\n",
       "Chinese              72.223893\n",
       "East Indian         239.043175\n",
       "European             97.604592\n",
       "Fusion               86.377135\n",
       "Greek               282.682950\n",
       "Indian               81.220021\n",
       "Italian Recipes      66.511901\n",
       "Japanese             59.743405\n",
       "Jewish               48.541517\n",
       "Korean               64.722022\n",
       "Mediterranean        48.541517\n",
       "Mexican              74.567448\n",
       "Middle Eastern      142.064839\n",
       "North Indian         88.926164\n",
       "NorthEast Indian     82.250903\n",
       "NorthWest Indian     49.932238\n",
       "Pakistani            63.177519\n",
       "Persian              43.393174\n",
       "South Asian          91.577005\n",
       "South Indian        104.093040\n",
       "SouthEast Asian      44.226715\n",
       "SouthWest Indian    125.860775\n",
       "Thai                 48.051198\n",
       "Vietnamese           43.687365\n",
       "West Indian          74.695747\n",
       "Name: PrepTimeInMins, dtype: float64"
      ]
     },
     "execution_count": 45,
     "metadata": {},
     "output_type": "execute_result"
    }
   ],
   "source": [
    "df_hindi.groupby('Cuisine')[('PrepTimeInMins')].mean()/df_hindi['CookTimeInMins'].mean()*100"
   ]
  },
  {
   "cell_type": "code",
   "execution_count": 46,
   "id": "44a9009b",
   "metadata": {},
   "outputs": [],
   "source": [
    "df_hindi.to_csv('IndianCuisineAnalysis.csv')"
   ]
  }
 ],
 "metadata": {
  "kernelspec": {
   "display_name": "Python 3 (ipykernel)",
   "language": "python",
   "name": "python3"
  },
  "language_info": {
   "codemirror_mode": {
    "name": "ipython",
    "version": 3
   },
   "file_extension": ".py",
   "mimetype": "text/x-python",
   "name": "python",
   "nbconvert_exporter": "python",
   "pygments_lexer": "ipython3",
   "version": "3.11.4"
  }
 },
 "nbformat": 4,
 "nbformat_minor": 5
}
